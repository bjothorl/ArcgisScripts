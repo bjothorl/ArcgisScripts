{
 "cells": [
  {
   "cell_type": "code",
   "execution_count": 2,
   "id": "a6dd6142",
   "metadata": {},
   "outputs": [
    {
     "data": {
      "text/html": [
       "<div class='gpresult'><h2>Messages</h2><div id='messages' data-messages='[\"Start Time: 11 June 2023 17:23:28\",\"Succeeded at 11 June 2023 17:23:28 (Elapsed Time: 0.06 seconds)\"]' data-show='true'><div id = 'default' /></div></div>"
      ],
      "text/plain": [
       "<Result 'tmp\\\\geodb.gdb'>"
      ]
     },
     "execution_count": 2,
     "metadata": {},
     "output_type": "execute_result"
    }
   ],
   "source": [
    "import arcpy\n",
    "from arcpy import env\n",
    "env.overwriteOutput = True\n",
    "env.workspace = r\"C:\\ArcGisScripts\"\n",
    "\n",
    "arcpy.management.CreateFileGDB(\n",
    "    out_folder_path=\"tmp\",\n",
    "    out_name=\"geodb\",\n",
    "    out_version=\"CURRENT\"\n",
    ")"
   ]
  },
  {
   "cell_type": "code",
   "execution_count": 3,
   "id": "08c851e2",
   "metadata": {},
   "outputs": [
    {
     "data": {
      "text/html": [
       "<div class='gpresult'><h2>Messages</h2><div id='messages' data-messages='[\"Start Time: 11 June 2023 17:24:05\",\"Succeeded at 11 June 2023 17:27:23 (Elapsed Time: 3 minutes 17 seconds)\"]' data-show='true'><div id = 'default' /></div></div>"
      ],
      "text/plain": [
       "<Result 'tmp\\\\geodb.gdb\\\\prediction_points'>"
      ]
     },
     "execution_count": 3,
     "metadata": {},
     "output_type": "execute_result"
    }
   ],
   "source": [
    "arcpy.management.XYTableToPoint(\n",
    "    in_table=r\"C:\\ArcgisScripts\\data\\predictions_7days_20230523_to_20230530.csv\",\n",
    "    out_feature_class=r\"tmp\\geodb.gdb\\prediction_points\",\n",
    "    x_field=\"longitude\",\n",
    "    y_field=\"latitude\",\n",
    "    z_field=None,\n",
    "    coordinate_system='GEOGCS[\"GCS_WGS_1984\",DATUM[\"D_WGS_1984\",SPHEROID[\"WGS_1984\",6378137.0,298.257223563]],PRIMEM[\"Greenwich\",0.0],UNIT[\"Degree\",0.0174532925199433]];-400 -400 1000000000;-100000 10000;-100000 10000;8.98315284119521E-09;0.001;0.001;IsHighPrecision'\n",
    ")"
   ]
  },
  {
   "cell_type": "code",
   "execution_count": 4,
   "id": "e9d3c181",
   "metadata": {},
   "outputs": [],
   "source": [
    "from datetime import date, timedelta\n",
    "\n",
    "def daterange(start_date, end_date):\n",
    "    for n in range(int((end_date - start_date).days)):\n",
    "        yield start_date + timedelta(n)"
   ]
  },
  {
   "cell_type": "code",
   "execution_count": 11,
   "id": "427ee7d7",
   "metadata": {},
   "outputs": [
    {
     "name": "stdout",
     "output_type": "stream",
     "text": [
      "[\"timestamp '2023/05/23 12:00:00'\"] ['23_05_2023']\n",
      "['Torsk'] ['Andre liner', 'Bunntrål']\n"
     ]
    }
   ],
   "source": [
    "start_date = date(2023, 5, 23)\n",
    "end_date = date(2023, 5, 24)\n",
    "date_range = int((end_date - start_date).days);\n",
    "\n",
    "rasterTimes = []\n",
    "for single_date in daterange(start_date, end_date):\n",
    "    rasterTimes += [\"timestamp '\"+single_date.strftime(\"%Y/%m/%d\")+\" 12:00:00'\"]\n",
    "\n",
    "rasterNames = []\n",
    "for single_date in daterange(start_date, end_date):\n",
    "    rasterNames += [single_date.strftime(\"%d_%m_%Y\")]\n",
    "    \n",
    "#species = ['Torsk','Hyse']\n",
    "#gears = ['Andre liner', 'Bunntrål', 'Settegarn', 'Snurrevad', 'Udefinert garn']\n",
    "\n",
    "species = ['Torsk']\n",
    "gears = ['Andre liner', 'Bunntrål']\n",
    "\n",
    "print(rasterTimes, rasterNames)\n",
    "print(species, gears)\n",
    "\n",
    "def rn(s,g,n):\n",
    "    return s+\"_\"+g.replace(\" \",\"_\")+\"_\"+n"
   ]
  },
  {
   "cell_type": "code",
   "execution_count": 6,
   "id": "05b6d063",
   "metadata": {},
   "outputs": [
    {
     "name": "stdout",
     "output_type": "stream",
     "text": [
      "Torsk_Andre_liner_23_05_2023\n",
      "Torsk_Bunntrål_23_05_2023\n"
     ]
    }
   ],
   "source": [
    "for count, rasterTime in enumerate(rasterTimes, start=0):\n",
    "    for g in gears:\n",
    "        for s in species:\n",
    "            rd = rn(s,g,rasterNames[count])\n",
    "            arcpy.MakeFeatureLayer_management(r\"tmp\\geodb.gdb\\prediction_points\", \"Points_Layer\", \"gear = '\"+g+\"' And species = '\"+s+\"' And time = \"+rasterTime)\n",
    "            arcpy.conversion.PointToRaster(\n",
    "                in_features=\"Points_Layer\",\n",
    "                value_field=\"predictions\",\n",
    "                out_rasterdataset=r\"tmp\\geodb.gdb\\Predictions_\"+rd,\n",
    "                cell_assignment=\"MOST_FREQUENT\",\n",
    "                priority_field=\"NONE\",\n",
    "                cellsize=0.1,\n",
    "                build_rat=\"BUILD\"\n",
    "            )\n",
    "            print(\"Predictions_\"+rd)\n",
    "            time.sleep(0.1)"
   ]
  },
  {
   "cell_type": "code",
   "execution_count": 7,
   "id": "c066a15f",
   "metadata": {},
   "outputs": [
    {
     "name": "stdout",
     "output_type": "stream",
     "text": [
      "Contours_Torsk_Andre_liner_23_05_2023\n",
      "Contours_Torsk_Bunntrål_23_05_2023\n"
     ]
    }
   ],
   "source": [
    "for rasterName in rasterNames:\n",
    "    for g in gears:\n",
    "        for s in species:\n",
    "            rd = rn(s,g,rasterName)\n",
    "            arcpy.ddd.Contour(\n",
    "                in_raster=r\"tmp\\geodb.gdb\\Predictions_\"+rd,\n",
    "                out_polyline_features=r\"tmp\\geodb.gdb\\Contours_\"+rd,\n",
    "                contour_interval=500,\n",
    "                base_contour=0,\n",
    "                z_factor=1,\n",
    "                contour_type=\"CONTOUR_POLYGON\",\n",
    "                max_vertices_per_feature=None\n",
    "            )\n",
    "            print(\"Contours_\"+rd)\n",
    "            time.sleep(0.1)"
   ]
  },
  {
   "cell_type": "code",
   "execution_count": 13,
   "id": "634f635c",
   "metadata": {},
   "outputs": [
    {
     "name": "stdout",
     "output_type": "stream",
     "text": [
      "Smooth_Torsk_Andre_liner_23_05_2023\n",
      "Smooth_Torsk_Bunntrål_23_05_2023\n"
     ]
    }
   ],
   "source": [
    "for rasterName in rasterNames:\n",
    "    for g in gears:\n",
    "        for s in species:\n",
    "            rd = rn(s,g,rasterName)\n",
    "            arcpy.cartography.SmoothPolygon(\n",
    "                in_features=r\"tmp\\geodb.gdb\\Contours_\"+rd,\n",
    "                out_feature_class=r\"tmp\\geodb.gdb\\Smooth_\"+rd,\n",
    "                algorithm=\"PAEK\",\n",
    "                tolerance=\"100 Kilometers\",\n",
    "                endpoint_option=\"FIXED_ENDPOINT\",\n",
    "                error_option=\"NO_CHECK\",\n",
    "                in_barriers=None\n",
    "            )\n",
    "            print(\"Smooth_\"+rd)\n",
    "            time.sleep(0.1)"
   ]
  },
  {
   "cell_type": "code",
   "execution_count": 14,
   "id": "41c5bc91",
   "metadata": {},
   "outputs": [
    {
     "name": "stdout",
     "output_type": "stream",
     "text": [
      "tmp\\geodb.gdb\\Smooth_Torsk_Andre_liner_23_05_2023\n",
      "tmp\\geodb.gdb\\Smooth_Torsk_Bunntrål_23_05_2023\n"
     ]
    }
   ],
   "source": [
    "for rasterName in rasterNames:\n",
    "    for g in gears:\n",
    "        for s in species:\n",
    "            rd = rn(s,g,rasterName)\n",
    "            table = r\"tmp\\geodb.gdb\\Smooth_\"+rd\n",
    "            arcpy.management.AddField(\n",
    "                in_table=table,\n",
    "                field_name=\"Date\",\n",
    "                field_type=\"DATE\",\n",
    "                field_precision=None,\n",
    "                field_scale=None,\n",
    "                field_length=None,\n",
    "                field_alias=\"Date\",\n",
    "                field_is_nullable=\"NULLABLE\",\n",
    "                field_is_required=\"NON_REQUIRED\",\n",
    "                field_domain=\"\"\n",
    "            )\n",
    "            time.sleep(0.1)\n",
    "            arcpy.management.CalculateField(\n",
    "                in_table=table,\n",
    "                field=\"Date\",\n",
    "                expression='datetime.datetime.strptime(\"'+rasterName+'\", \"%d_%m_%Y\")',\n",
    "                expression_type=\"PYTHON3\",\n",
    "                code_block=\"\",\n",
    "                field_type=\"TEXT\",\n",
    "                enforce_domains=\"NO_ENFORCE_DOMAINS\"\n",
    "            )\n",
    "            time.sleep(0.1)\n",
    "            arcpy.management.AddField(\n",
    "                in_table=table,\n",
    "                field_name=\"FAOSpecies\",\n",
    "                field_type=\"TEXT\",\n",
    "                field_precision=None,\n",
    "                field_scale=None,\n",
    "                field_length=None,\n",
    "                field_alias=\"FAOSpecies\",\n",
    "                field_is_nullable=\"NULLABLE\",\n",
    "                field_is_required=\"NON_REQUIRED\",\n",
    "                field_domain=\"\"\n",
    "            )\n",
    "            time.sleep(0.1)\n",
    "            arcpy.management.AddField(\n",
    "                in_table=table,\n",
    "                field_name=\"FDIRGear\",\n",
    "                field_type=\"TEXT\",\n",
    "                field_precision=None,\n",
    "                field_scale=None,\n",
    "                field_length=None,\n",
    "                field_alias=\"FDIRGear\",\n",
    "                field_is_nullable=\"NULLABLE\",\n",
    "                field_is_required=\"NON_REQUIRED\",\n",
    "                field_domain=\"\"\n",
    "            )\n",
    "            time.sleep(0.1)\n",
    "            arcpy.management.CalculateField(\n",
    "                in_table=table,\n",
    "                field=\"FAOSpecies\",\n",
    "                expression='\"'+s+'\"',\n",
    "                expression_type=\"PYTHON3\",\n",
    "                code_block=\"\",\n",
    "                field_type=\"TEXT\",\n",
    "                enforce_domains=\"NO_ENFORCE_DOMAINS\"\n",
    "            )\n",
    "            time.sleep(0.1)\n",
    "            arcpy.management.CalculateField(\n",
    "                in_table=table,\n",
    "                field=\"FDIRGear\",\n",
    "                expression='\"'+g+'\"',\n",
    "                expression_type=\"PYTHON3\",\n",
    "                code_block=\"\",\n",
    "                field_type=\"TEXT\",\n",
    "                enforce_domains=\"NO_ENFORCE_DOMAINS\"\n",
    "            )\n",
    "            time.sleep(0.1)\n",
    "            print(table)"
   ]
  },
  {
   "cell_type": "code",
   "execution_count": 18,
   "id": "8457aaa0",
   "metadata": {},
   "outputs": [
    {
     "name": "stdout",
     "output_type": "stream",
     "text": [
      "root: tmp\\geodb.gdb\\Smooth_Torsk_Andre_liner_23_05_2023\n",
      "append: tmp\\geodb.gdb\\Smooth_Torsk_Bunntrål_23_05_2023\n"
     ]
    }
   ],
   "source": [
    "appendTables = []\n",
    "for count, rasterTime in enumerate(rasterTimes, start=0):\n",
    "    for gear in gears:\n",
    "        for s in species:\n",
    "            appendTables += [r\"tmp\\geodb.gdb\\Smooth_\"+s+\"_\"+gear.replace(\" \",\"_\")+\"_\"+rasterNames[count]]\n",
    "\n",
    "rootTable = appendTables[0]\n",
    "            \n",
    "appendTables.pop(0)\n",
    "appendInputTables = ';'.join(appendTables)\n",
    "print(\"root: \"+rootTable)\n",
    "print(\"append: \"+appendInputTables)"
   ]
  },
  {
   "cell_type": "code",
   "execution_count": 19,
   "id": "e4e3c7ae",
   "metadata": {},
   "outputs": [
    {
     "name": "stdout",
     "output_type": "stream",
     "text": [
      "append done\n"
     ]
    }
   ],
   "source": [
    "arcpy.management.Append(\n",
    "    inputs=appendInputTables,\n",
    "    target=rootTable,\n",
    "    schema_type=\"TEST\",\n",
    "    field_mapping=None,\n",
    "    subtype=\"\",\n",
    "    expression=\"\",\n",
    "    match_fields=None,\n",
    "    update_geometry=\"NOT_UPDATE_GEOMETRY\"\n",
    ")\n",
    "print(\"append done\")"
   ]
  },
  {
   "cell_type": "code",
   "execution_count": 40,
   "id": "1d06ac3d",
   "metadata": {},
   "outputs": [
    {
     "data": {
      "text/html": [
       "<div class='gpresult'><h2>Messages</h2><div id='messages' data-messages='[\"Start Time: 11 June 2023 20:05:59\",\"Succeeded at 11 June 2023 20:05:59 (Elapsed Time: 0.10 seconds)\"]' data-show='true'><div id = 'default' /></div></div>"
      ],
      "text/plain": [
       "<Result 'tmp\\\\geodb.gdb\\\\Smooth_Torsk_Andre_liner_23_05_2023'>"
      ]
     },
     "execution_count": 40,
     "metadata": {},
     "output_type": "execute_result"
    }
   ],
   "source": [
    "arcpy.management.AlterField(\n",
    "    in_table=rootTable,\n",
    "    field=\"ContourMin\",\n",
    "    new_field_name=\"prediction\",\n",
    "    new_field_alias=\"prediction\",\n",
    "    field_type=\"DOUBLE\",\n",
    "    field_length=8,\n",
    "    clear_field_alias=\"DO_NOT_CLEAR\"\n",
    ")\n",
    "time.sleep(0.1)\n",
    "arcpy.management.DeleteField(\n",
    "    in_table=rootTable,\n",
    "    drop_field=\"ContourMax\",\n",
    "    method=\"DELETE_FIELDS\"\n",
    ")"
   ]
  },
  {
   "cell_type": "code",
   "execution_count": 41,
   "id": "b597ddff",
   "metadata": {},
   "outputs": [
    {
     "name": "stdout",
     "output_type": "stream",
     "text": [
      "OBJECTID\n",
      "Shape\n",
      "prediction\n",
      "Shape_Length\n",
      "Shape_Area\n",
      "InPoly_FID\n",
      "Date\n",
      "FAOSpecies\n",
      "FDIRGear\n"
     ]
    }
   ],
   "source": [
    "# Print fields in table\n",
    "\n",
    "fieldObjects = arcpy.ListFields(rootTable)\n",
    "for field in fieldObjects:\n",
    "    print(field.name)"
   ]
  },
  {
   "cell_type": "code",
   "execution_count": 73,
   "id": "8857f1a6",
   "metadata": {},
   "outputs": [
    {
     "name": "stdout",
     "output_type": "stream",
     "text": [
      "[2:54]\t\tTorsk\t\tAndre liner\t\t2023-05-23\t500.0\n",
      "[5:54]\t\tTorsk\t\tAndre liner\t\t2023-05-23\t2000.0\n",
      "[9:54]\t\tTorsk\t\tAndre liner\t\t2023-05-23\t4000.0\n",
      "[11:54]\t\tTorsk\t\tAndre liner\t\t2023-05-23\t5000.0\n",
      "[13:54]\t\tTorsk\t\tAndre liner\t\t2023-05-23\t6000.0\n",
      "[14:54]\t\tTorsk\t\tAndre liner\t\t2023-05-23\t6500.0\n",
      "[17:54]\t\tTorsk\t\tAndre liner\t\t2023-05-23\t8000.0\n",
      "[28:54]\t\tTorsk\t\tBunntrål\t\t2023-05-23\t500.0\n",
      "[32:54]\t\tTorsk\t\tBunntrål\t\t2023-05-23\t2500.0\n",
      "[34:54]\t\tTorsk\t\tBunntrål\t\t2023-05-23\t3500.0\n",
      "[35:54]\t\tTorsk\t\tBunntrål\t\t2023-05-23\t4000.0\n",
      "[39:54]\t\tTorsk\t\tBunntrål\t\t2023-05-23\t6000.0\n",
      "[45:54]\t\tTorsk\t\tBunntrål\t\t2023-05-23\t9000.0\n",
      "[46:54]\t\tTorsk\t\tBunntrål\t\t2023-05-23\t9500.0\n",
      "[47:54]\t\tTorsk\t\tBunntrål\t\t2023-05-23\t10000.0\n",
      "[52:54]\t\tTorsk\t\tBunntrål\t\t2023-05-23\t12500.0\n",
      "[54:54]\t\tTorsk\t\tBunntrål\t\t2023-05-23\t13500.0\n"
     ]
    }
   ],
   "source": [
    "# Print random rows\n",
    "\n",
    "import random\n",
    "\n",
    "n = arcpy.GetCount_management(rootTable)\n",
    "cursor = arcpy.SearchCursor(rootTable)\n",
    "c = 0\n",
    "for count, row in enumerate(cursor,start=1):\n",
    "    if c < 100:\n",
    "        if random.random() > 0.8:\n",
    "            c = c+1\n",
    "            print(\"[{0}:{1}]\\t\\t{2}\\t\\t{3}\\t\\t{4}\\t{5}\".format(count, n, row.FAOSpecies, row.FDIRGear, str(row.Date).split(\" \")[0], row.prediction))"
   ]
  },
  {
   "cell_type": "code",
   "execution_count": null,
   "id": "b87b7597",
   "metadata": {},
   "outputs": [],
   "source": []
  }
 ],
 "metadata": {
  "kernelspec": {
   "display_name": "Python 3 (ipykernel)",
   "language": "python",
   "name": "python3"
  },
  "language_info": {
   "codemirror_mode": {
    "name": "ipython",
    "version": 3
   },
   "file_extension": ".py",
   "mimetype": "text/x-python",
   "name": "python",
   "nbconvert_exporter": "python",
   "pygments_lexer": "ipython3",
   "version": "3.9.16"
  }
 },
 "nbformat": 4,
 "nbformat_minor": 5
}
